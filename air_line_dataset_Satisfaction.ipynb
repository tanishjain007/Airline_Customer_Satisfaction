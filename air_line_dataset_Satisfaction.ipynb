{
 "cells": [
  {
   "cell_type": "code",
   "execution_count": 1,
   "id": "f8ff32f9",
   "metadata": {},
   "outputs": [],
   "source": [
    "import numpy as np\n",
    "import pandas as pd\n",
    "import matplotlib.pyplot as plt\n",
    "import seaborn as sns"
   ]
  },
  {
   "cell_type": "code",
   "execution_count": 2,
   "id": "03a457bb",
   "metadata": {},
   "outputs": [],
   "source": [
    "df = pd.read_csv(r'C:/Users/91882/OneDrive/Desktop/datasets/Airplane_satisfaction_dataset/airline_passenger_satisfaction.csv')"
   ]
  },
  {
   "cell_type": "code",
   "execution_count": 3,
   "id": "1fab0f21",
   "metadata": {},
   "outputs": [
    {
     "data": {
      "text/html": [
       "<div>\n",
       "<style scoped>\n",
       "    .dataframe tbody tr th:only-of-type {\n",
       "        vertical-align: middle;\n",
       "    }\n",
       "\n",
       "    .dataframe tbody tr th {\n",
       "        vertical-align: top;\n",
       "    }\n",
       "\n",
       "    .dataframe thead th {\n",
       "        text-align: right;\n",
       "    }\n",
       "</style>\n",
       "<table border=\"1\" class=\"dataframe\">\n",
       "  <thead>\n",
       "    <tr style=\"text-align: right;\">\n",
       "      <th></th>\n",
       "      <th>ID</th>\n",
       "      <th>Gender</th>\n",
       "      <th>Age</th>\n",
       "      <th>Customer Type</th>\n",
       "      <th>Type of Travel</th>\n",
       "      <th>Class</th>\n",
       "      <th>Flight Distance</th>\n",
       "      <th>Departure Delay</th>\n",
       "      <th>Arrival Delay</th>\n",
       "      <th>Departure and Arrival Time Convenience</th>\n",
       "      <th>...</th>\n",
       "      <th>On-board Service</th>\n",
       "      <th>Seat Comfort</th>\n",
       "      <th>Leg Room Service</th>\n",
       "      <th>Cleanliness</th>\n",
       "      <th>Food and Drink</th>\n",
       "      <th>In-flight Service</th>\n",
       "      <th>In-flight Wifi Service</th>\n",
       "      <th>In-flight Entertainment</th>\n",
       "      <th>Baggage Handling</th>\n",
       "      <th>Satisfaction</th>\n",
       "    </tr>\n",
       "  </thead>\n",
       "  <tbody>\n",
       "    <tr>\n",
       "      <th>0</th>\n",
       "      <td>1</td>\n",
       "      <td>Male</td>\n",
       "      <td>48</td>\n",
       "      <td>First-time</td>\n",
       "      <td>Business</td>\n",
       "      <td>Business</td>\n",
       "      <td>821</td>\n",
       "      <td>2</td>\n",
       "      <td>5.0</td>\n",
       "      <td>3</td>\n",
       "      <td>...</td>\n",
       "      <td>3</td>\n",
       "      <td>5</td>\n",
       "      <td>2</td>\n",
       "      <td>5</td>\n",
       "      <td>5</td>\n",
       "      <td>5</td>\n",
       "      <td>3</td>\n",
       "      <td>5</td>\n",
       "      <td>5</td>\n",
       "      <td>Neutral or Dissatisfied</td>\n",
       "    </tr>\n",
       "    <tr>\n",
       "      <th>1</th>\n",
       "      <td>2</td>\n",
       "      <td>Female</td>\n",
       "      <td>35</td>\n",
       "      <td>Returning</td>\n",
       "      <td>Business</td>\n",
       "      <td>Business</td>\n",
       "      <td>821</td>\n",
       "      <td>26</td>\n",
       "      <td>39.0</td>\n",
       "      <td>2</td>\n",
       "      <td>...</td>\n",
       "      <td>5</td>\n",
       "      <td>4</td>\n",
       "      <td>5</td>\n",
       "      <td>5</td>\n",
       "      <td>3</td>\n",
       "      <td>5</td>\n",
       "      <td>2</td>\n",
       "      <td>5</td>\n",
       "      <td>5</td>\n",
       "      <td>Satisfied</td>\n",
       "    </tr>\n",
       "    <tr>\n",
       "      <th>2</th>\n",
       "      <td>3</td>\n",
       "      <td>Male</td>\n",
       "      <td>41</td>\n",
       "      <td>Returning</td>\n",
       "      <td>Business</td>\n",
       "      <td>Business</td>\n",
       "      <td>853</td>\n",
       "      <td>0</td>\n",
       "      <td>0.0</td>\n",
       "      <td>4</td>\n",
       "      <td>...</td>\n",
       "      <td>3</td>\n",
       "      <td>5</td>\n",
       "      <td>3</td>\n",
       "      <td>5</td>\n",
       "      <td>5</td>\n",
       "      <td>3</td>\n",
       "      <td>4</td>\n",
       "      <td>3</td>\n",
       "      <td>3</td>\n",
       "      <td>Satisfied</td>\n",
       "    </tr>\n",
       "    <tr>\n",
       "      <th>3</th>\n",
       "      <td>4</td>\n",
       "      <td>Male</td>\n",
       "      <td>50</td>\n",
       "      <td>Returning</td>\n",
       "      <td>Business</td>\n",
       "      <td>Business</td>\n",
       "      <td>1905</td>\n",
       "      <td>0</td>\n",
       "      <td>0.0</td>\n",
       "      <td>2</td>\n",
       "      <td>...</td>\n",
       "      <td>5</td>\n",
       "      <td>5</td>\n",
       "      <td>5</td>\n",
       "      <td>4</td>\n",
       "      <td>4</td>\n",
       "      <td>5</td>\n",
       "      <td>2</td>\n",
       "      <td>5</td>\n",
       "      <td>5</td>\n",
       "      <td>Satisfied</td>\n",
       "    </tr>\n",
       "    <tr>\n",
       "      <th>4</th>\n",
       "      <td>5</td>\n",
       "      <td>Female</td>\n",
       "      <td>49</td>\n",
       "      <td>Returning</td>\n",
       "      <td>Business</td>\n",
       "      <td>Business</td>\n",
       "      <td>3470</td>\n",
       "      <td>0</td>\n",
       "      <td>1.0</td>\n",
       "      <td>3</td>\n",
       "      <td>...</td>\n",
       "      <td>3</td>\n",
       "      <td>4</td>\n",
       "      <td>4</td>\n",
       "      <td>5</td>\n",
       "      <td>4</td>\n",
       "      <td>3</td>\n",
       "      <td>3</td>\n",
       "      <td>3</td>\n",
       "      <td>3</td>\n",
       "      <td>Satisfied</td>\n",
       "    </tr>\n",
       "    <tr>\n",
       "      <th>...</th>\n",
       "      <td>...</td>\n",
       "      <td>...</td>\n",
       "      <td>...</td>\n",
       "      <td>...</td>\n",
       "      <td>...</td>\n",
       "      <td>...</td>\n",
       "      <td>...</td>\n",
       "      <td>...</td>\n",
       "      <td>...</td>\n",
       "      <td>...</td>\n",
       "      <td>...</td>\n",
       "      <td>...</td>\n",
       "      <td>...</td>\n",
       "      <td>...</td>\n",
       "      <td>...</td>\n",
       "      <td>...</td>\n",
       "      <td>...</td>\n",
       "      <td>...</td>\n",
       "      <td>...</td>\n",
       "      <td>...</td>\n",
       "      <td>...</td>\n",
       "    </tr>\n",
       "    <tr>\n",
       "      <th>129875</th>\n",
       "      <td>129876</td>\n",
       "      <td>Male</td>\n",
       "      <td>28</td>\n",
       "      <td>Returning</td>\n",
       "      <td>Personal</td>\n",
       "      <td>Economy Plus</td>\n",
       "      <td>447</td>\n",
       "      <td>2</td>\n",
       "      <td>3.0</td>\n",
       "      <td>4</td>\n",
       "      <td>...</td>\n",
       "      <td>5</td>\n",
       "      <td>1</td>\n",
       "      <td>4</td>\n",
       "      <td>4</td>\n",
       "      <td>4</td>\n",
       "      <td>5</td>\n",
       "      <td>4</td>\n",
       "      <td>4</td>\n",
       "      <td>4</td>\n",
       "      <td>Neutral or Dissatisfied</td>\n",
       "    </tr>\n",
       "    <tr>\n",
       "      <th>129876</th>\n",
       "      <td>129877</td>\n",
       "      <td>Male</td>\n",
       "      <td>41</td>\n",
       "      <td>Returning</td>\n",
       "      <td>Personal</td>\n",
       "      <td>Economy Plus</td>\n",
       "      <td>308</td>\n",
       "      <td>0</td>\n",
       "      <td>0.0</td>\n",
       "      <td>5</td>\n",
       "      <td>...</td>\n",
       "      <td>5</td>\n",
       "      <td>2</td>\n",
       "      <td>5</td>\n",
       "      <td>2</td>\n",
       "      <td>2</td>\n",
       "      <td>4</td>\n",
       "      <td>3</td>\n",
       "      <td>2</td>\n",
       "      <td>5</td>\n",
       "      <td>Neutral or Dissatisfied</td>\n",
       "    </tr>\n",
       "    <tr>\n",
       "      <th>129877</th>\n",
       "      <td>129878</td>\n",
       "      <td>Male</td>\n",
       "      <td>42</td>\n",
       "      <td>Returning</td>\n",
       "      <td>Personal</td>\n",
       "      <td>Economy Plus</td>\n",
       "      <td>337</td>\n",
       "      <td>6</td>\n",
       "      <td>14.0</td>\n",
       "      <td>5</td>\n",
       "      <td>...</td>\n",
       "      <td>3</td>\n",
       "      <td>3</td>\n",
       "      <td>4</td>\n",
       "      <td>3</td>\n",
       "      <td>3</td>\n",
       "      <td>4</td>\n",
       "      <td>2</td>\n",
       "      <td>3</td>\n",
       "      <td>5</td>\n",
       "      <td>Neutral or Dissatisfied</td>\n",
       "    </tr>\n",
       "    <tr>\n",
       "      <th>129878</th>\n",
       "      <td>129879</td>\n",
       "      <td>Male</td>\n",
       "      <td>50</td>\n",
       "      <td>Returning</td>\n",
       "      <td>Personal</td>\n",
       "      <td>Economy Plus</td>\n",
       "      <td>337</td>\n",
       "      <td>31</td>\n",
       "      <td>22.0</td>\n",
       "      <td>4</td>\n",
       "      <td>...</td>\n",
       "      <td>4</td>\n",
       "      <td>4</td>\n",
       "      <td>5</td>\n",
       "      <td>3</td>\n",
       "      <td>3</td>\n",
       "      <td>4</td>\n",
       "      <td>5</td>\n",
       "      <td>3</td>\n",
       "      <td>5</td>\n",
       "      <td>Satisfied</td>\n",
       "    </tr>\n",
       "    <tr>\n",
       "      <th>129879</th>\n",
       "      <td>129880</td>\n",
       "      <td>Female</td>\n",
       "      <td>20</td>\n",
       "      <td>Returning</td>\n",
       "      <td>Personal</td>\n",
       "      <td>Economy Plus</td>\n",
       "      <td>337</td>\n",
       "      <td>0</td>\n",
       "      <td>0.0</td>\n",
       "      <td>1</td>\n",
       "      <td>...</td>\n",
       "      <td>4</td>\n",
       "      <td>2</td>\n",
       "      <td>4</td>\n",
       "      <td>2</td>\n",
       "      <td>2</td>\n",
       "      <td>2</td>\n",
       "      <td>3</td>\n",
       "      <td>2</td>\n",
       "      <td>1</td>\n",
       "      <td>Neutral or Dissatisfied</td>\n",
       "    </tr>\n",
       "  </tbody>\n",
       "</table>\n",
       "<p>129880 rows × 24 columns</p>\n",
       "</div>"
      ],
      "text/plain": [
       "            ID  Gender  Age Customer Type Type of Travel         Class  \\\n",
       "0            1    Male   48    First-time       Business      Business   \n",
       "1            2  Female   35     Returning       Business      Business   \n",
       "2            3    Male   41     Returning       Business      Business   \n",
       "3            4    Male   50     Returning       Business      Business   \n",
       "4            5  Female   49     Returning       Business      Business   \n",
       "...        ...     ...  ...           ...            ...           ...   \n",
       "129875  129876    Male   28     Returning       Personal  Economy Plus   \n",
       "129876  129877    Male   41     Returning       Personal  Economy Plus   \n",
       "129877  129878    Male   42     Returning       Personal  Economy Plus   \n",
       "129878  129879    Male   50     Returning       Personal  Economy Plus   \n",
       "129879  129880  Female   20     Returning       Personal  Economy Plus   \n",
       "\n",
       "        Flight Distance  Departure Delay  Arrival Delay  \\\n",
       "0                   821                2            5.0   \n",
       "1                   821               26           39.0   \n",
       "2                   853                0            0.0   \n",
       "3                  1905                0            0.0   \n",
       "4                  3470                0            1.0   \n",
       "...                 ...              ...            ...   \n",
       "129875              447                2            3.0   \n",
       "129876              308                0            0.0   \n",
       "129877              337                6           14.0   \n",
       "129878              337               31           22.0   \n",
       "129879              337                0            0.0   \n",
       "\n",
       "        Departure and Arrival Time Convenience  ...  On-board Service  \\\n",
       "0                                            3  ...                 3   \n",
       "1                                            2  ...                 5   \n",
       "2                                            4  ...                 3   \n",
       "3                                            2  ...                 5   \n",
       "4                                            3  ...                 3   \n",
       "...                                        ...  ...               ...   \n",
       "129875                                       4  ...                 5   \n",
       "129876                                       5  ...                 5   \n",
       "129877                                       5  ...                 3   \n",
       "129878                                       4  ...                 4   \n",
       "129879                                       1  ...                 4   \n",
       "\n",
       "        Seat Comfort  Leg Room Service  Cleanliness  Food and Drink  \\\n",
       "0                  5                 2            5               5   \n",
       "1                  4                 5            5               3   \n",
       "2                  5                 3            5               5   \n",
       "3                  5                 5            4               4   \n",
       "4                  4                 4            5               4   \n",
       "...              ...               ...          ...             ...   \n",
       "129875             1                 4            4               4   \n",
       "129876             2                 5            2               2   \n",
       "129877             3                 4            3               3   \n",
       "129878             4                 5            3               3   \n",
       "129879             2                 4            2               2   \n",
       "\n",
       "        In-flight Service  In-flight Wifi Service  In-flight Entertainment  \\\n",
       "0                       5                       3                        5   \n",
       "1                       5                       2                        5   \n",
       "2                       3                       4                        3   \n",
       "3                       5                       2                        5   \n",
       "4                       3                       3                        3   \n",
       "...                   ...                     ...                      ...   \n",
       "129875                  5                       4                        4   \n",
       "129876                  4                       3                        2   \n",
       "129877                  4                       2                        3   \n",
       "129878                  4                       5                        3   \n",
       "129879                  2                       3                        2   \n",
       "\n",
       "        Baggage Handling             Satisfaction  \n",
       "0                      5  Neutral or Dissatisfied  \n",
       "1                      5                Satisfied  \n",
       "2                      3                Satisfied  \n",
       "3                      5                Satisfied  \n",
       "4                      3                Satisfied  \n",
       "...                  ...                      ...  \n",
       "129875                 4  Neutral or Dissatisfied  \n",
       "129876                 5  Neutral or Dissatisfied  \n",
       "129877                 5  Neutral or Dissatisfied  \n",
       "129878                 5                Satisfied  \n",
       "129879                 1  Neutral or Dissatisfied  \n",
       "\n",
       "[129880 rows x 24 columns]"
      ]
     },
     "execution_count": 3,
     "metadata": {},
     "output_type": "execute_result"
    }
   ],
   "source": [
    "df"
   ]
  },
  {
   "cell_type": "code",
   "execution_count": 4,
   "id": "17e47a92",
   "metadata": {},
   "outputs": [
    {
     "data": {
      "text/plain": [
       "ID                                          0\n",
       "Gender                                      0\n",
       "Age                                         0\n",
       "Customer Type                               0\n",
       "Type of Travel                              0\n",
       "Class                                       0\n",
       "Flight Distance                             0\n",
       "Departure Delay                             0\n",
       "Arrival Delay                             393\n",
       "Departure and Arrival Time Convenience      0\n",
       "Ease of Online Booking                      0\n",
       "Check-in Service                            0\n",
       "Online Boarding                             0\n",
       "Gate Location                               0\n",
       "On-board Service                            0\n",
       "Seat Comfort                                0\n",
       "Leg Room Service                            0\n",
       "Cleanliness                                 0\n",
       "Food and Drink                              0\n",
       "In-flight Service                           0\n",
       "In-flight Wifi Service                      0\n",
       "In-flight Entertainment                     0\n",
       "Baggage Handling                            0\n",
       "Satisfaction                                0\n",
       "dtype: int64"
      ]
     },
     "execution_count": 4,
     "metadata": {},
     "output_type": "execute_result"
    }
   ],
   "source": [
    "df.isna().sum()"
   ]
  },
  {
   "cell_type": "code",
   "execution_count": 5,
   "id": "5479bd67",
   "metadata": {},
   "outputs": [],
   "source": [
    "# Handling missing values\n",
    "df['Arrival Delay'].fillna(df['Arrival Delay'].median(), inplace=True)"
   ]
  },
  {
   "cell_type": "code",
   "execution_count": 6,
   "id": "fa359da7",
   "metadata": {},
   "outputs": [
    {
     "data": {
      "text/plain": [
       "ID                                        0\n",
       "Gender                                    0\n",
       "Age                                       0\n",
       "Customer Type                             0\n",
       "Type of Travel                            0\n",
       "Class                                     0\n",
       "Flight Distance                           0\n",
       "Departure Delay                           0\n",
       "Arrival Delay                             0\n",
       "Departure and Arrival Time Convenience    0\n",
       "Ease of Online Booking                    0\n",
       "Check-in Service                          0\n",
       "Online Boarding                           0\n",
       "Gate Location                             0\n",
       "On-board Service                          0\n",
       "Seat Comfort                              0\n",
       "Leg Room Service                          0\n",
       "Cleanliness                               0\n",
       "Food and Drink                            0\n",
       "In-flight Service                         0\n",
       "In-flight Wifi Service                    0\n",
       "In-flight Entertainment                   0\n",
       "Baggage Handling                          0\n",
       "Satisfaction                              0\n",
       "dtype: int64"
      ]
     },
     "execution_count": 6,
     "metadata": {},
     "output_type": "execute_result"
    }
   ],
   "source": [
    "df.isna().sum()"
   ]
  },
  {
   "cell_type": "code",
   "execution_count": 7,
   "id": "e757f1c9",
   "metadata": {},
   "outputs": [
    {
     "data": {
      "text/plain": [
       "array(['Neutral or Dissatisfied', 'Satisfied'], dtype=object)"
      ]
     },
     "execution_count": 7,
     "metadata": {},
     "output_type": "execute_result"
    }
   ],
   "source": [
    "df['Satisfaction'].unique()"
   ]
  },
  {
   "cell_type": "code",
   "execution_count": 7,
   "id": "83e9165b",
   "metadata": {},
   "outputs": [],
   "source": [
    "# Encoding the target variable\n",
    "df['Satisfaction'].replace({'Neutral or Dissatisfied': 0, 'Satisfied': 1}, inplace=True)"
   ]
  },
  {
   "cell_type": "code",
   "execution_count": 8,
   "id": "32fd8b29",
   "metadata": {},
   "outputs": [
    {
     "data": {
      "text/plain": [
       "array([0, 1], dtype=int64)"
      ]
     },
     "execution_count": 8,
     "metadata": {},
     "output_type": "execute_result"
    }
   ],
   "source": [
    "df['Satisfaction'].unique()"
   ]
  },
  {
   "cell_type": "code",
   "execution_count": 9,
   "id": "51481991",
   "metadata": {},
   "outputs": [
    {
     "data": {
      "text/plain": [
       "<Axes: xlabel='Customer Type', ylabel='Satisfaction'>"
      ]
     },
     "execution_count": 9,
     "metadata": {},
     "output_type": "execute_result"
    },
    {
     "data": {
      "image/png": "[encoded data removed]",
      "text/plain": [
       "<Figure size 640x480 with 1 Axes>"
      ]
     },
     "metadata": {},
     "output_type": "display_data"
    }
   ],
   "source": [
    "sns.barplot(data = df, x = 'Customer Type', y = 'Satisfaction')"
   ]
  },
  {
   "cell_type": "code",
   "execution_count": 11,
   "id": "92cd302b",
   "metadata": {},
   "outputs": [
    {
     "data": {
      "text/plain": [
       "<Axes: xlabel='Age', ylabel='Density'>"
      ]
     },
     "execution_count": 11,
     "metadata": {},
     "output_type": "execute_result"
    },
    {
     "data": {
      "image/png": "[encoded data removed]",
      "text/plain": [
       "<Figure size 640x480 with 1 Axes>"
      ]
     },
     "metadata": {},
     "output_type": "display_data"
    }
   ],
   "source": [
    "sns.kdeplot(df['Age'][df.Satisfaction == 1],multiple = 'stack', color = 'pink')\n",
    "sns.kdeplot(df['Age'][df.Satisfaction == 0],multiple = 'stack')"
   ]
  },
  {
   "cell_type": "code",
   "execution_count": 10,
   "id": "900992c7",
   "metadata": {},
   "outputs": [
    {
     "data": {
      "text/plain": [
       "<Axes: xlabel='Type of Travel', ylabel='Satisfaction'>"
      ]
     },
     "execution_count": 10,
     "metadata": {},
     "output_type": "execute_result"
    },
    {
     "data": {
      "image/png": "[encoded data removed]",
      "text/plain": [
       "<Figure size 640x480 with 1 Axes>"
      ]
     },
     "metadata": {},
     "output_type": "display_data"
    }
   ],
   "source": [
    "sns.barplot(data = df , x = 'Type of Travel', y = 'Satisfaction')"
   ]
  },
  {
   "cell_type": "code",
   "execution_count": 11,
   "id": "804843a0",
   "metadata": {},
   "outputs": [
    {
     "data": {
      "text/plain": [
       "Type of Travel\n",
       "Business    89693\n",
       "Personal    40187\n",
       "Name: count, dtype: int64"
      ]
     },
     "execution_count": 11,
     "metadata": {},
     "output_type": "execute_result"
    }
   ],
   "source": [
    "df['Type of Travel'].value_counts()"
   ]
  },
  {
   "cell_type": "code",
   "execution_count": 12,
   "id": "98d9c812",
   "metadata": {},
   "outputs": [
    {
     "data": {
      "text/plain": [
       "<Axes: xlabel='Class', ylabel='Satisfaction'>"
      ]
     },
     "execution_count": 12,
     "metadata": {},
     "output_type": "execute_result"
    },
    {
     "data": {
      "image/png": "[encoded data removed]",
      "text/plain": [
       "<Figure size 640x480 with 1 Axes>"
      ]
     },
     "metadata": {},
     "output_type": "display_data"
    }
   ],
   "source": [
    "sns.barplot(data=df,x=\"Class\", y=\"Satisfaction\")"
   ]
  },
  {
   "cell_type": "code",
   "execution_count": 13,
   "id": "19223055",
   "metadata": {},
   "outputs": [
    {
     "data": {
      "text/plain": [
       "<Axes: xlabel='Gender', ylabel='Satisfaction'>"
      ]
     },
     "execution_count": 13,
     "metadata": {},
     "output_type": "execute_result"
    },
    {
     "data": {
      "image/png": "[encoded data removed]",
      "text/plain": [
       "<Figure size 640x480 with 1 Axes>"
      ]
     },
     "metadata": {},
     "output_type": "display_data"
    }
   ],
   "source": [
    "sns.barplot(data=df,x=\"Gender\", y=\"Satisfaction\")"
   ]
  },
  {
   "cell_type": "code",
   "execution_count": 14,
   "id": "9974af05",
   "metadata": {},
   "outputs": [
    {
     "name": "stderr",
     "output_type": "stream",
     "text": [
      "C:\\Users\\91882\\AppData\\Local\\Temp\\ipykernel_21700\\3155735821.py:1: UserWarning: Boolean Series key will be reindexed to match DataFrame index.\n",
      "  sns.barplot(data=df[df.Class == 'Business'][df.Gender == 'Female'],x=\"Cleanliness\", y=\"Satisfaction\")\n"
     ]
    },
    {
     "data": {
      "text/plain": [
       "<Axes: xlabel='Cleanliness', ylabel='Satisfaction'>"
      ]
     },
     "execution_count": 14,
     "metadata": {},
     "output_type": "execute_result"
    },
    {
     "data": {
      "image/png": "[encoded data removed]",
      "text/plain": [
       "<Figure size 640x480 with 1 Axes>"
      ]
     },
     "metadata": {},
     "output_type": "display_data"
    }
   ],
   "source": [
    "sns.barplot(data=df[df.Class == 'Business'][df.Gender == 'Female'],x=\"Cleanliness\", y=\"Satisfaction\")"
   ]
  },
  {
   "cell_type": "code",
   "execution_count": 15,
   "id": "8fa615dc",
   "metadata": {
    "scrolled": true
   },
   "outputs": [
    {
     "data": {
      "text/plain": [
       "<Axes: xlabel='Cleanliness', ylabel='Satisfaction'>"
      ]
     },
     "execution_count": 15,
     "metadata": {},
     "output_type": "execute_result"
    },
    {
     "data": {
      "image/png": "[encoded data removed]",
      "text/plain": [
       "<Figure size 640x480 with 1 Axes>"
      ]
     },
     "metadata": {},
     "output_type": "display_data"
    }
   ],
   "source": [
    "sns.barplot(data=df,x=\"Cleanliness\", y=\"Satisfaction\")"
   ]
  },
  {
   "cell_type": "code",
   "execution_count": 16,
   "id": "86c9d5d9",
   "metadata": {},
   "outputs": [],
   "source": [
    "df.drop('ID', inplace = True , axis = 1)"
   ]
  },
  {
   "cell_type": "code",
   "execution_count": 17,
   "id": "29d78f62",
   "metadata": {},
   "outputs": [],
   "source": [
    "# df.drop('Age', inplace = True , axis = 1)"
   ]
  },
  {
   "cell_type": "code",
   "execution_count": 18,
   "id": "ade3ff32",
   "metadata": {},
   "outputs": [
    {
     "data": {
      "text/html": [
       "<div>\n",
       "<style scoped>\n",
       "    .dataframe tbody tr th:only-of-type {\n",
       "        vertical-align: middle;\n",
       "    }\n",
       "\n",
       "    .dataframe tbody tr th {\n",
       "        vertical-align: top;\n",
       "    }\n",
       "\n",
       "    .dataframe thead th {\n",
       "        text-align: right;\n",
       "    }\n",
       "</style>\n",
       "<table border=\"1\" class=\"dataframe\">\n",
       "  <thead>\n",
       "    <tr style=\"text-align: right;\">\n",
       "      <th></th>\n",
       "      <th>Gender</th>\n",
       "      <th>Age</th>\n",
       "      <th>Customer Type</th>\n",
       "      <th>Type of Travel</th>\n",
       "      <th>Class</th>\n",
       "      <th>Flight Distance</th>\n",
       "      <th>Departure Delay</th>\n",
       "      <th>Arrival Delay</th>\n",
       "      <th>Departure and Arrival Time Convenience</th>\n",
       "      <th>Ease of Online Booking</th>\n",
       "      <th>...</th>\n",
       "      <th>On-board Service</th>\n",
       "      <th>Seat Comfort</th>\n",
       "      <th>Leg Room Service</th>\n",
       "      <th>Cleanliness</th>\n",
       "      <th>Food and Drink</th>\n",
       "      <th>In-flight Service</th>\n",
       "      <th>In-flight Wifi Service</th>\n",
       "      <th>In-flight Entertainment</th>\n",
       "      <th>Baggage Handling</th>\n",
       "      <th>Satisfaction</th>\n",
       "    </tr>\n",
       "  </thead>\n",
       "  <tbody>\n",
       "    <tr>\n",
       "      <th>0</th>\n",
       "      <td>Male</td>\n",
       "      <td>48</td>\n",
       "      <td>First-time</td>\n",
       "      <td>Business</td>\n",
       "      <td>Business</td>\n",
       "      <td>821</td>\n",
       "      <td>2</td>\n",
       "      <td>5.0</td>\n",
       "      <td>3</td>\n",
       "      <td>3</td>\n",
       "      <td>...</td>\n",
       "      <td>3</td>\n",
       "      <td>5</td>\n",
       "      <td>2</td>\n",
       "      <td>5</td>\n",
       "      <td>5</td>\n",
       "      <td>5</td>\n",
       "      <td>3</td>\n",
       "      <td>5</td>\n",
       "      <td>5</td>\n",
       "      <td>0</td>\n",
       "    </tr>\n",
       "    <tr>\n",
       "      <th>1</th>\n",
       "      <td>Female</td>\n",
       "      <td>35</td>\n",
       "      <td>Returning</td>\n",
       "      <td>Business</td>\n",
       "      <td>Business</td>\n",
       "      <td>821</td>\n",
       "      <td>26</td>\n",
       "      <td>39.0</td>\n",
       "      <td>2</td>\n",
       "      <td>2</td>\n",
       "      <td>...</td>\n",
       "      <td>5</td>\n",
       "      <td>4</td>\n",
       "      <td>5</td>\n",
       "      <td>5</td>\n",
       "      <td>3</td>\n",
       "      <td>5</td>\n",
       "      <td>2</td>\n",
       "      <td>5</td>\n",
       "      <td>5</td>\n",
       "      <td>1</td>\n",
       "    </tr>\n",
       "    <tr>\n",
       "      <th>2</th>\n",
       "      <td>Male</td>\n",
       "      <td>41</td>\n",
       "      <td>Returning</td>\n",
       "      <td>Business</td>\n",
       "      <td>Business</td>\n",
       "      <td>853</td>\n",
       "      <td>0</td>\n",
       "      <td>0.0</td>\n",
       "      <td>4</td>\n",
       "      <td>4</td>\n",
       "      <td>...</td>\n",
       "      <td>3</td>\n",
       "      <td>5</td>\n",
       "      <td>3</td>\n",
       "      <td>5</td>\n",
       "      <td>5</td>\n",
       "      <td>3</td>\n",
       "      <td>4</td>\n",
       "      <td>3</td>\n",
       "      <td>3</td>\n",
       "      <td>1</td>\n",
       "    </tr>\n",
       "    <tr>\n",
       "      <th>3</th>\n",
       "      <td>Male</td>\n",
       "      <td>50</td>\n",
       "      <td>Returning</td>\n",
       "      <td>Business</td>\n",
       "      <td>Business</td>\n",
       "      <td>1905</td>\n",
       "      <td>0</td>\n",
       "      <td>0.0</td>\n",
       "      <td>2</td>\n",
       "      <td>2</td>\n",
       "      <td>...</td>\n",
       "      <td>5</td>\n",
       "      <td>5</td>\n",
       "      <td>5</td>\n",
       "      <td>4</td>\n",
       "      <td>4</td>\n",
       "      <td>5</td>\n",
       "      <td>2</td>\n",
       "      <td>5</td>\n",
       "      <td>5</td>\n",
       "      <td>1</td>\n",
       "    </tr>\n",
       "    <tr>\n",
       "      <th>4</th>\n",
       "      <td>Female</td>\n",
       "      <td>49</td>\n",
       "      <td>Returning</td>\n",
       "      <td>Business</td>\n",
       "      <td>Business</td>\n",
       "      <td>3470</td>\n",
       "      <td>0</td>\n",
       "      <td>1.0</td>\n",
       "      <td>3</td>\n",
       "      <td>3</td>\n",
       "      <td>...</td>\n",
       "      <td>3</td>\n",
       "      <td>4</td>\n",
       "      <td>4</td>\n",
       "      <td>5</td>\n",
       "      <td>4</td>\n",
       "      <td>3</td>\n",
       "      <td>3</td>\n",
       "      <td>3</td>\n",
       "      <td>3</td>\n",
       "      <td>1</td>\n",
       "    </tr>\n",
       "    <tr>\n",
       "      <th>...</th>\n",
       "      <td>...</td>\n",
       "      <td>...</td>\n",
       "      <td>...</td>\n",
       "      <td>...</td>\n",
       "      <td>...</td>\n",
       "      <td>...</td>\n",
       "      <td>...</td>\n",
       "      <td>...</td>\n",
       "      <td>...</td>\n",
       "      <td>...</td>\n",
       "      <td>...</td>\n",
       "      <td>...</td>\n",
       "      <td>...</td>\n",
       "      <td>...</td>\n",
       "      <td>...</td>\n",
       "      <td>...</td>\n",
       "      <td>...</td>\n",
       "      <td>...</td>\n",
       "      <td>...</td>\n",
       "      <td>...</td>\n",
       "      <td>...</td>\n",
       "    </tr>\n",
       "    <tr>\n",
       "      <th>129875</th>\n",
       "      <td>Male</td>\n",
       "      <td>28</td>\n",
       "      <td>Returning</td>\n",
       "      <td>Personal</td>\n",
       "      <td>Economy Plus</td>\n",
       "      <td>447</td>\n",
       "      <td>2</td>\n",
       "      <td>3.0</td>\n",
       "      <td>4</td>\n",
       "      <td>4</td>\n",
       "      <td>...</td>\n",
       "      <td>5</td>\n",
       "      <td>1</td>\n",
       "      <td>4</td>\n",
       "      <td>4</td>\n",
       "      <td>4</td>\n",
       "      <td>5</td>\n",
       "      <td>4</td>\n",
       "      <td>4</td>\n",
       "      <td>4</td>\n",
       "      <td>0</td>\n",
       "    </tr>\n",
       "    <tr>\n",
       "      <th>129876</th>\n",
       "      <td>Male</td>\n",
       "      <td>41</td>\n",
       "      <td>Returning</td>\n",
       "      <td>Personal</td>\n",
       "      <td>Economy Plus</td>\n",
       "      <td>308</td>\n",
       "      <td>0</td>\n",
       "      <td>0.0</td>\n",
       "      <td>5</td>\n",
       "      <td>3</td>\n",
       "      <td>...</td>\n",
       "      <td>5</td>\n",
       "      <td>2</td>\n",
       "      <td>5</td>\n",
       "      <td>2</td>\n",
       "      <td>2</td>\n",
       "      <td>4</td>\n",
       "      <td>3</td>\n",
       "      <td>2</td>\n",
       "      <td>5</td>\n",
       "      <td>0</td>\n",
       "    </tr>\n",
       "    <tr>\n",
       "      <th>129877</th>\n",
       "      <td>Male</td>\n",
       "      <td>42</td>\n",
       "      <td>Returning</td>\n",
       "      <td>Personal</td>\n",
       "      <td>Economy Plus</td>\n",
       "      <td>337</td>\n",
       "      <td>6</td>\n",
       "      <td>14.0</td>\n",
       "      <td>5</td>\n",
       "      <td>2</td>\n",
       "      <td>...</td>\n",
       "      <td>3</td>\n",
       "      <td>3</td>\n",
       "      <td>4</td>\n",
       "      <td>3</td>\n",
       "      <td>3</td>\n",
       "      <td>4</td>\n",
       "      <td>2</td>\n",
       "      <td>3</td>\n",
       "      <td>5</td>\n",
       "      <td>0</td>\n",
       "    </tr>\n",
       "    <tr>\n",
       "      <th>129878</th>\n",
       "      <td>Male</td>\n",
       "      <td>50</td>\n",
       "      <td>Returning</td>\n",
       "      <td>Personal</td>\n",
       "      <td>Economy Plus</td>\n",
       "      <td>337</td>\n",
       "      <td>31</td>\n",
       "      <td>22.0</td>\n",
       "      <td>4</td>\n",
       "      <td>4</td>\n",
       "      <td>...</td>\n",
       "      <td>4</td>\n",
       "      <td>4</td>\n",
       "      <td>5</td>\n",
       "      <td>3</td>\n",
       "      <td>3</td>\n",
       "      <td>4</td>\n",
       "      <td>5</td>\n",
       "      <td>3</td>\n",
       "      <td>5</td>\n",
       "      <td>1</td>\n",
       "    </tr>\n",
       "    <tr>\n",
       "      <th>129879</th>\n",
       "      <td>Female</td>\n",
       "      <td>20</td>\n",
       "      <td>Returning</td>\n",
       "      <td>Personal</td>\n",
       "      <td>Economy Plus</td>\n",
       "      <td>337</td>\n",
       "      <td>0</td>\n",
       "      <td>0.0</td>\n",
       "      <td>1</td>\n",
       "      <td>3</td>\n",
       "      <td>...</td>\n",
       "      <td>4</td>\n",
       "      <td>2</td>\n",
       "      <td>4</td>\n",
       "      <td>2</td>\n",
       "      <td>2</td>\n",
       "      <td>2</td>\n",
       "      <td>3</td>\n",
       "      <td>2</td>\n",
       "      <td>1</td>\n",
       "      <td>0</td>\n",
       "    </tr>\n",
       "  </tbody>\n",
       "</table>\n",
       "<p>129880 rows × 23 columns</p>\n",
       "</div>"
      ],
      "text/plain": [
       "        Gender  Age Customer Type Type of Travel         Class  \\\n",
       "0         Male   48    First-time       Business      Business   \n",
       "1       Female   35     Returning       Business      Business   \n",
       "2         Male   41     Returning       Business      Business   \n",
       "3         Male   50     Returning       Business      Business   \n",
       "4       Female   49     Returning       Business      Business   \n",
       "...        ...  ...           ...            ...           ...   \n",
       "129875    Male   28     Returning       Personal  Economy Plus   \n",
       "129876    Male   41     Returning       Personal  Economy Plus   \n",
       "129877    Male   42     Returning       Personal  Economy Plus   \n",
       "129878    Male   50     Returning       Personal  Economy Plus   \n",
       "129879  Female   20     Returning       Personal  Economy Plus   \n",
       "\n",
       "        Flight Distance  Departure Delay  Arrival Delay  \\\n",
       "0                   821                2            5.0   \n",
       "1                   821               26           39.0   \n",
       "2                   853                0            0.0   \n",
       "3                  1905                0            0.0   \n",
       "4                  3470                0            1.0   \n",
       "...                 ...              ...            ...   \n",
       "129875              447                2            3.0   \n",
       "129876              308                0            0.0   \n",
       "129877              337                6           14.0   \n",
       "129878              337               31           22.0   \n",
       "129879              337                0            0.0   \n",
       "\n",
       "        Departure and Arrival Time Convenience  Ease of Online Booking  ...  \\\n",
       "0                                            3                       3  ...   \n",
       "1                                            2                       2  ...   \n",
       "2                                            4                       4  ...   \n",
       "3                                            2                       2  ...   \n",
       "4                                            3                       3  ...   \n",
       "...                                        ...                     ...  ...   \n",
       "129875                                       4                       4  ...   \n",
       "129876                                       5                       3  ...   \n",
       "129877                                       5                       2  ...   \n",
       "129878                                       4                       4  ...   \n",
       "129879                                       1                       3  ...   \n",
       "\n",
       "        On-board Service  Seat Comfort  Leg Room Service  Cleanliness  \\\n",
       "0                      3             5                 2            5   \n",
       "1                      5             4                 5            5   \n",
       "2                      3             5                 3            5   \n",
       "3                      5             5                 5            4   \n",
       "4                      3             4                 4            5   \n",
       "...                  ...           ...               ...          ...   \n",
       "129875                 5             1                 4            4   \n",
       "129876                 5             2                 5            2   \n",
       "129877                 3             3                 4            3   \n",
       "129878                 4             4                 5            3   \n",
       "129879                 4             2                 4            2   \n",
       "\n",
       "        Food and Drink  In-flight Service  In-flight Wifi Service  \\\n",
       "0                    5                  5                       3   \n",
       "1                    3                  5                       2   \n",
       "2                    5                  3                       4   \n",
       "3                    4                  5                       2   \n",
       "4                    4                  3                       3   \n",
       "...                ...                ...                     ...   \n",
       "129875               4                  5                       4   \n",
       "129876               2                  4                       3   \n",
       "129877               3                  4                       2   \n",
       "129878               3                  4                       5   \n",
       "129879               2                  2                       3   \n",
       "\n",
       "        In-flight Entertainment  Baggage Handling  Satisfaction  \n",
       "0                             5                 5             0  \n",
       "1                             5                 5             1  \n",
       "2                             3                 3             1  \n",
       "3                             5                 5             1  \n",
       "4                             3                 3             1  \n",
       "...                         ...               ...           ...  \n",
       "129875                        4                 4             0  \n",
       "129876                        2                 5             0  \n",
       "129877                        3                 5             0  \n",
       "129878                        3                 5             1  \n",
       "129879                        2                 1             0  \n",
       "\n",
       "[129880 rows x 23 columns]"
      ]
     },
     "execution_count": 18,
     "metadata": {},
     "output_type": "execute_result"
    }
   ],
   "source": [
    "df"
   ]
  },
  {
   "cell_type": "code",
   "execution_count": 19,
   "id": "9d2e8ceb",
   "metadata": {},
   "outputs": [],
   "source": [
    "# from sklearn.preprocessing import LabelEncoder"
   ]
  },
  {
   "cell_type": "code",
   "execution_count": 20,
   "id": "2702b9cd",
   "metadata": {},
   "outputs": [],
   "source": [
    "# label_encoder = LabelEncoder()"
   ]
  },
  {
   "cell_type": "code",
   "execution_count": 21,
   "id": "9dc7a13c",
   "metadata": {},
   "outputs": [],
   "source": [
    "# df = df.apply(label_encoder.fit_transform)"
   ]
  },
  {
   "cell_type": "code",
   "execution_count": 22,
   "id": "6c0329e3",
   "metadata": {},
   "outputs": [],
   "source": [
    "# One-hot encoding categorical variables\n",
    "df_train = pd.get_dummies(df, columns=['Customer Type', 'Type of Travel', 'Class'])\n"
   ]
  },
  {
   "cell_type": "code",
   "execution_count": 23,
   "id": "2f8ec463",
   "metadata": {},
   "outputs": [],
   "source": [
    "# Prepare the label\n",
    "label = df['Satisfaction']"
   ]
  },
  {
   "cell_type": "code",
   "execution_count": 24,
   "id": "e350f5b5",
   "metadata": {},
   "outputs": [
    {
     "data": {
      "text/plain": [
       "0         0\n",
       "1         1\n",
       "2         1\n",
       "3         1\n",
       "4         1\n",
       "         ..\n",
       "129875    0\n",
       "129876    0\n",
       "129877    0\n",
       "129878    1\n",
       "129879    0\n",
       "Name: Satisfaction, Length: 129880, dtype: int64"
      ]
     },
     "execution_count": 24,
     "metadata": {},
     "output_type": "execute_result"
    }
   ],
   "source": [
    "label"
   ]
  },
  {
   "cell_type": "code",
   "execution_count": 25,
   "id": "c3c0bf95",
   "metadata": {},
   "outputs": [],
   "source": [
    "df_train.replace({True:1,False:0},inplace=True)"
   ]
  },
  {
   "cell_type": "code",
   "execution_count": 26,
   "id": "06445b93",
   "metadata": {},
   "outputs": [],
   "source": [
    "df_train.drop('Gender',inplace=True, axis = 1)"
   ]
  },
  {
   "cell_type": "code",
   "execution_count": 27,
   "id": "baa7a6d0",
   "metadata": {},
   "outputs": [
    {
     "data": {
      "text/html": [
       "<div>\n",
       "<style scoped>\n",
       "    .dataframe tbody tr th:only-of-type {\n",
       "        vertical-align: middle;\n",
       "    }\n",
       "\n",
       "    .dataframe tbody tr th {\n",
       "        vertical-align: top;\n",
       "    }\n",
       "\n",
       "    .dataframe thead th {\n",
       "        text-align: right;\n",
       "    }\n",
       "</style>\n",
       "<table border=\"1\" class=\"dataframe\">\n",
       "  <thead>\n",
       "    <tr style=\"text-align: right;\">\n",
       "      <th></th>\n",
       "      <th>Age</th>\n",
       "      <th>Flight Distance</th>\n",
       "      <th>Departure Delay</th>\n",
       "      <th>Arrival Delay</th>\n",
       "      <th>Departure and Arrival Time Convenience</th>\n",
       "      <th>Ease of Online Booking</th>\n",
       "      <th>Check-in Service</th>\n",
       "      <th>Online Boarding</th>\n",
       "      <th>Gate Location</th>\n",
       "      <th>On-board Service</th>\n",
       "      <th>...</th>\n",
       "      <th>In-flight Entertainment</th>\n",
       "      <th>Baggage Handling</th>\n",
       "      <th>Satisfaction</th>\n",
       "      <th>Customer Type_First-time</th>\n",
       "      <th>Customer Type_Returning</th>\n",
       "      <th>Type of Travel_Business</th>\n",
       "      <th>Type of Travel_Personal</th>\n",
       "      <th>Class_Business</th>\n",
       "      <th>Class_Economy</th>\n",
       "      <th>Class_Economy Plus</th>\n",
       "    </tr>\n",
       "  </thead>\n",
       "  <tbody>\n",
       "    <tr>\n",
       "      <th>0</th>\n",
       "      <td>48</td>\n",
       "      <td>821</td>\n",
       "      <td>2</td>\n",
       "      <td>5.0</td>\n",
       "      <td>3</td>\n",
       "      <td>3</td>\n",
       "      <td>4</td>\n",
       "      <td>3</td>\n",
       "      <td>3</td>\n",
       "      <td>3</td>\n",
       "      <td>...</td>\n",
       "      <td>5</td>\n",
       "      <td>5</td>\n",
       "      <td>0</td>\n",
       "      <td>1</td>\n",
       "      <td>0</td>\n",
       "      <td>1</td>\n",
       "      <td>0</td>\n",
       "      <td>1</td>\n",
       "      <td>0</td>\n",
       "      <td>0</td>\n",
       "    </tr>\n",
       "    <tr>\n",
       "      <th>1</th>\n",
       "      <td>35</td>\n",
       "      <td>821</td>\n",
       "      <td>26</td>\n",
       "      <td>39.0</td>\n",
       "      <td>2</td>\n",
       "      <td>2</td>\n",
       "      <td>3</td>\n",
       "      <td>5</td>\n",
       "      <td>2</td>\n",
       "      <td>5</td>\n",
       "      <td>...</td>\n",
       "      <td>5</td>\n",
       "      <td>5</td>\n",
       "      <td>1</td>\n",
       "      <td>0</td>\n",
       "      <td>1</td>\n",
       "      <td>1</td>\n",
       "      <td>0</td>\n",
       "      <td>1</td>\n",
       "      <td>0</td>\n",
       "      <td>0</td>\n",
       "    </tr>\n",
       "    <tr>\n",
       "      <th>2</th>\n",
       "      <td>41</td>\n",
       "      <td>853</td>\n",
       "      <td>0</td>\n",
       "      <td>0.0</td>\n",
       "      <td>4</td>\n",
       "      <td>4</td>\n",
       "      <td>4</td>\n",
       "      <td>5</td>\n",
       "      <td>4</td>\n",
       "      <td>3</td>\n",
       "      <td>...</td>\n",
       "      <td>3</td>\n",
       "      <td>3</td>\n",
       "      <td>1</td>\n",
       "      <td>0</td>\n",
       "      <td>1</td>\n",
       "      <td>1</td>\n",
       "      <td>0</td>\n",
       "      <td>1</td>\n",
       "      <td>0</td>\n",
       "      <td>0</td>\n",
       "    </tr>\n",
       "    <tr>\n",
       "      <th>3</th>\n",
       "      <td>50</td>\n",
       "      <td>1905</td>\n",
       "      <td>0</td>\n",
       "      <td>0.0</td>\n",
       "      <td>2</td>\n",
       "      <td>2</td>\n",
       "      <td>3</td>\n",
       "      <td>4</td>\n",
       "      <td>2</td>\n",
       "      <td>5</td>\n",
       "      <td>...</td>\n",
       "      <td>5</td>\n",
       "      <td>5</td>\n",
       "      <td>1</td>\n",
       "      <td>0</td>\n",
       "      <td>1</td>\n",
       "      <td>1</td>\n",
       "      <td>0</td>\n",
       "      <td>1</td>\n",
       "      <td>0</td>\n",
       "      <td>0</td>\n",
       "    </tr>\n",
       "    <tr>\n",
       "      <th>4</th>\n",
       "      <td>49</td>\n",
       "      <td>3470</td>\n",
       "      <td>0</td>\n",
       "      <td>1.0</td>\n",
       "      <td>3</td>\n",
       "      <td>3</td>\n",
       "      <td>3</td>\n",
       "      <td>5</td>\n",
       "      <td>3</td>\n",
       "      <td>3</td>\n",
       "      <td>...</td>\n",
       "      <td>3</td>\n",
       "      <td>3</td>\n",
       "      <td>1</td>\n",
       "      <td>0</td>\n",
       "      <td>1</td>\n",
       "      <td>1</td>\n",
       "      <td>0</td>\n",
       "      <td>1</td>\n",
       "      <td>0</td>\n",
       "      <td>0</td>\n",
       "    </tr>\n",
       "    <tr>\n",
       "      <th>...</th>\n",
       "      <td>...</td>\n",
       "      <td>...</td>\n",
       "      <td>...</td>\n",
       "      <td>...</td>\n",
       "      <td>...</td>\n",
       "      <td>...</td>\n",
       "      <td>...</td>\n",
       "      <td>...</td>\n",
       "      <td>...</td>\n",
       "      <td>...</td>\n",
       "      <td>...</td>\n",
       "      <td>...</td>\n",
       "      <td>...</td>\n",
       "      <td>...</td>\n",
       "      <td>...</td>\n",
       "      <td>...</td>\n",
       "      <td>...</td>\n",
       "      <td>...</td>\n",
       "      <td>...</td>\n",
       "      <td>...</td>\n",
       "      <td>...</td>\n",
       "    </tr>\n",
       "    <tr>\n",
       "      <th>129875</th>\n",
       "      <td>28</td>\n",
       "      <td>447</td>\n",
       "      <td>2</td>\n",
       "      <td>3.0</td>\n",
       "      <td>4</td>\n",
       "      <td>4</td>\n",
       "      <td>4</td>\n",
       "      <td>4</td>\n",
       "      <td>2</td>\n",
       "      <td>5</td>\n",
       "      <td>...</td>\n",
       "      <td>4</td>\n",
       "      <td>4</td>\n",
       "      <td>0</td>\n",
       "      <td>0</td>\n",
       "      <td>1</td>\n",
       "      <td>0</td>\n",
       "      <td>1</td>\n",
       "      <td>0</td>\n",
       "      <td>0</td>\n",
       "      <td>1</td>\n",
       "    </tr>\n",
       "    <tr>\n",
       "      <th>129876</th>\n",
       "      <td>41</td>\n",
       "      <td>308</td>\n",
       "      <td>0</td>\n",
       "      <td>0.0</td>\n",
       "      <td>5</td>\n",
       "      <td>3</td>\n",
       "      <td>5</td>\n",
       "      <td>3</td>\n",
       "      <td>4</td>\n",
       "      <td>5</td>\n",
       "      <td>...</td>\n",
       "      <td>2</td>\n",
       "      <td>5</td>\n",
       "      <td>0</td>\n",
       "      <td>0</td>\n",
       "      <td>1</td>\n",
       "      <td>0</td>\n",
       "      <td>1</td>\n",
       "      <td>0</td>\n",
       "      <td>0</td>\n",
       "      <td>1</td>\n",
       "    </tr>\n",
       "    <tr>\n",
       "      <th>129877</th>\n",
       "      <td>42</td>\n",
       "      <td>337</td>\n",
       "      <td>6</td>\n",
       "      <td>14.0</td>\n",
       "      <td>5</td>\n",
       "      <td>2</td>\n",
       "      <td>4</td>\n",
       "      <td>2</td>\n",
       "      <td>1</td>\n",
       "      <td>3</td>\n",
       "      <td>...</td>\n",
       "      <td>3</td>\n",
       "      <td>5</td>\n",
       "      <td>0</td>\n",
       "      <td>0</td>\n",
       "      <td>1</td>\n",
       "      <td>0</td>\n",
       "      <td>1</td>\n",
       "      <td>0</td>\n",
       "      <td>0</td>\n",
       "      <td>1</td>\n",
       "    </tr>\n",
       "    <tr>\n",
       "      <th>129878</th>\n",
       "      <td>50</td>\n",
       "      <td>337</td>\n",
       "      <td>31</td>\n",
       "      <td>22.0</td>\n",
       "      <td>4</td>\n",
       "      <td>4</td>\n",
       "      <td>3</td>\n",
       "      <td>4</td>\n",
       "      <td>1</td>\n",
       "      <td>4</td>\n",
       "      <td>...</td>\n",
       "      <td>3</td>\n",
       "      <td>5</td>\n",
       "      <td>1</td>\n",
       "      <td>0</td>\n",
       "      <td>1</td>\n",
       "      <td>0</td>\n",
       "      <td>1</td>\n",
       "      <td>0</td>\n",
       "      <td>0</td>\n",
       "      <td>1</td>\n",
       "    </tr>\n",
       "    <tr>\n",
       "      <th>129879</th>\n",
       "      <td>20</td>\n",
       "      <td>337</td>\n",
       "      <td>0</td>\n",
       "      <td>0.0</td>\n",
       "      <td>1</td>\n",
       "      <td>3</td>\n",
       "      <td>4</td>\n",
       "      <td>3</td>\n",
       "      <td>2</td>\n",
       "      <td>4</td>\n",
       "      <td>...</td>\n",
       "      <td>2</td>\n",
       "      <td>1</td>\n",
       "      <td>0</td>\n",
       "      <td>0</td>\n",
       "      <td>1</td>\n",
       "      <td>0</td>\n",
       "      <td>1</td>\n",
       "      <td>0</td>\n",
       "      <td>0</td>\n",
       "      <td>1</td>\n",
       "    </tr>\n",
       "  </tbody>\n",
       "</table>\n",
       "<p>129880 rows × 26 columns</p>\n",
       "</div>"
      ],
      "text/plain": [
       "        Age  Flight Distance  Departure Delay  Arrival Delay  \\\n",
       "0        48              821                2            5.0   \n",
       "1        35              821               26           39.0   \n",
       "2        41              853                0            0.0   \n",
       "3        50             1905                0            0.0   \n",
       "4        49             3470                0            1.0   \n",
       "...     ...              ...              ...            ...   \n",
       "129875   28              447                2            3.0   \n",
       "129876   41              308                0            0.0   \n",
       "129877   42              337                6           14.0   \n",
       "129878   50              337               31           22.0   \n",
       "129879   20              337                0            0.0   \n",
       "\n",
       "        Departure and Arrival Time Convenience  Ease of Online Booking  \\\n",
       "0                                            3                       3   \n",
       "1                                            2                       2   \n",
       "2                                            4                       4   \n",
       "3                                            2                       2   \n",
       "4                                            3                       3   \n",
       "...                                        ...                     ...   \n",
       "129875                                       4                       4   \n",
       "129876                                       5                       3   \n",
       "129877                                       5                       2   \n",
       "129878                                       4                       4   \n",
       "129879                                       1                       3   \n",
       "\n",
       "        Check-in Service  Online Boarding  Gate Location  On-board Service  \\\n",
       "0                      4                3              3                 3   \n",
       "1                      3                5              2                 5   \n",
       "2                      4                5              4                 3   \n",
       "3                      3                4              2                 5   \n",
       "4                      3                5              3                 3   \n",
       "...                  ...              ...            ...               ...   \n",
       "129875                 4                4              2                 5   \n",
       "129876                 5                3              4                 5   \n",
       "129877                 4                2              1                 3   \n",
       "129878                 3                4              1                 4   \n",
       "129879                 4                3              2                 4   \n",
       "\n",
       "        ...  In-flight Entertainment  Baggage Handling  Satisfaction  \\\n",
       "0       ...                        5                 5             0   \n",
       "1       ...                        5                 5             1   \n",
       "2       ...                        3                 3             1   \n",
       "3       ...                        5                 5             1   \n",
       "4       ...                        3                 3             1   \n",
       "...     ...                      ...               ...           ...   \n",
       "129875  ...                        4                 4             0   \n",
       "129876  ...                        2                 5             0   \n",
       "129877  ...                        3                 5             0   \n",
       "129878  ...                        3                 5             1   \n",
       "129879  ...                        2                 1             0   \n",
       "\n",
       "        Customer Type_First-time  Customer Type_Returning  \\\n",
       "0                              1                        0   \n",
       "1                              0                        1   \n",
       "2                              0                        1   \n",
       "3                              0                        1   \n",
       "4                              0                        1   \n",
       "...                          ...                      ...   \n",
       "129875                         0                        1   \n",
       "129876                         0                        1   \n",
       "129877                         0                        1   \n",
       "129878                         0                        1   \n",
       "129879                         0                        1   \n",
       "\n",
       "        Type of Travel_Business  Type of Travel_Personal  Class_Business  \\\n",
       "0                             1                        0               1   \n",
       "1                             1                        0               1   \n",
       "2                             1                        0               1   \n",
       "3                             1                        0               1   \n",
       "4                             1                        0               1   \n",
       "...                         ...                      ...             ...   \n",
       "129875                        0                        1               0   \n",
       "129876                        0                        1               0   \n",
       "129877                        0                        1               0   \n",
       "129878                        0                        1               0   \n",
       "129879                        0                        1               0   \n",
       "\n",
       "        Class_Economy  Class_Economy Plus  \n",
       "0                   0                   0  \n",
       "1                   0                   0  \n",
       "2                   0                   0  \n",
       "3                   0                   0  \n",
       "4                   0                   0  \n",
       "...               ...                 ...  \n",
       "129875              0                   1  \n",
       "129876              0                   1  \n",
       "129877              0                   1  \n",
       "129878              0                   1  \n",
       "129879              0                   1  \n",
       "\n",
       "[129880 rows x 26 columns]"
      ]
     },
     "execution_count": 27,
     "metadata": {},
     "output_type": "execute_result"
    }
   ],
   "source": [
    "df_train"
   ]
  },
  {
   "cell_type": "raw",
   "id": "cbd8af64",
   "metadata": {},
   "source": []
  },
  {
   "cell_type": "code",
   "execution_count": 31,
   "id": "aff6edc6",
   "metadata": {},
   "outputs": [],
   "source": [
    "# data = df.values"
   ]
  },
  {
   "cell_type": "code",
   "execution_count": 32,
   "id": "add42bf7",
   "metadata": {},
   "outputs": [],
   "source": [
    "# data_X = data[ : , ]"
   ]
  },
  {
   "cell_type": "code",
   "execution_count": 28,
   "id": "08c9eb07",
   "metadata": {},
   "outputs": [
    {
     "data": {
      "text/plain": [
       "(array([[ 48., 821.,   2., ...,   1.,   0.,   0.],\n",
       "        [ 35., 821.,  26., ...,   1.,   0.,   0.],\n",
       "        [ 41., 853.,   0., ...,   1.,   0.,   0.],\n",
       "        ...,\n",
       "        [ 42., 337.,   6., ...,   0.,   0.,   1.],\n",
       "        [ 50., 337.,  31., ...,   0.,   0.,   1.],\n",
       "        [ 20., 337.,   0., ...,   0.,   0.,   1.]]),\n",
       " array([0, 1, 1, ..., 0, 1, 0], dtype=int64))"
      ]
     },
     "execution_count": 28,
     "metadata": {},
     "output_type": "execute_result"
    }
   ],
   "source": [
    "df_train.values , label.values"
   ]
  },
  {
   "cell_type": "code",
   "execution_count": 29,
   "id": "9c0fbf96",
   "metadata": {},
   "outputs": [],
   "source": [
    "ones= np.ones((df_train.shape[0],1))\n",
    "df_train = np.hstack((ones,df_train))"
   ]
  },
  {
   "cell_type": "code",
   "execution_count": 30,
   "id": "2815245a",
   "metadata": {},
   "outputs": [],
   "source": [
    "# Split the data into training and testing sets\n",
    "split = 0.8\n",
    "train_X = df_train[:int(split * df_train.shape[0]), :]\n",
    "test_X = df_train[int(split * df_train.shape[0]):, :]\n",
    "train_Y = label[:int(split * label.shape[0])]\n",
    "test_Y = label[int(split * label.shape[0]):]"
   ]
  },
  {
   "cell_type": "code",
   "execution_count": 40,
   "id": "c52aa19a",
   "metadata": {},
   "outputs": [
    {
     "data": {
      "text/plain": [
       "(103904, 23)"
      ]
     },
     "execution_count": 40,
     "metadata": {},
     "output_type": "execute_result"
    }
   ],
   "source": [
    "train_X.shape"
   ]
  },
  {
   "cell_type": "code",
   "execution_count": 31,
   "id": "e67712f9",
   "metadata": {},
   "outputs": [
    {
     "name": "stdout",
     "output_type": "stream",
     "text": [
      "(103904, 27) (25976, 27) (103904,) (25976,)\n"
     ]
    }
   ],
   "source": [
    "print(train_X.shape, test_X.shape, train_Y.shape, test_Y.shape)"
   ]
  },
  {
   "cell_type": "code",
   "execution_count": 32,
   "id": "24f97e39",
   "metadata": {},
   "outputs": [],
   "source": [
    "train_X = train_X[:8000]\n",
    "test_X=test_X[:2000]\n",
    "train_Y = label[:8000]\n",
    "test_Y=test_Y[:2000]\n"
   ]
  },
  {
   "cell_type": "code",
   "execution_count": 33,
   "id": "b73eb31c",
   "metadata": {},
   "outputs": [
    {
     "name": "stdout",
     "output_type": "stream",
     "text": [
      "(8000, 27) (2000, 27) (8000,) (2000,)\n"
     ]
    }
   ],
   "source": [
    "print(train_X.shape, test_X.shape, train_Y.shape, test_Y.shape)"
   ]
  },
  {
   "cell_type": "code",
   "execution_count": 34,
   "id": "91d91f41",
   "metadata": {},
   "outputs": [],
   "source": [
    "def hypothesis(X, weights):\n",
    "    return 1 / (1 + np.exp(-1 * np.dot(X, weights)))"
   ]
  },
  {
   "cell_type": "code",
   "execution_count": 35,
   "id": "214aa747",
   "metadata": {},
   "outputs": [],
   "source": [
    "def loss_func(X, weights, Y):\n",
    "    Y_pred = hypothesis(X, weights)\n",
    "    loss = np.mean(Y * np.log(Y_pred) + (1 - Y) * np.log(1 - Y_pred))\n",
    "    return -1 * loss"
   ]
  },
  {
   "cell_type": "code",
   "execution_count": 36,
   "id": "b5ca479a",
   "metadata": {},
   "outputs": [],
   "source": [
    "def gradient(X, Y, weight):\n",
    "    y_pred = hypothesis(X, weight)\n",
    "    grad = np.dot(X.T, (Y - y_pred))\n",
    "        \n",
    "    return grad/X.shape[0]"
   ]
  },
  {
   "cell_type": "code",
   "execution_count": 37,
   "id": "c929413f",
   "metadata": {},
   "outputs": [],
   "source": [
    "def gradient_descent(X, Y):\n",
    "    weights = np.zeros((X.shape[1], ))\n",
    "    lr_rate = 0.0000003\n",
    "    loss_epoch = []\n",
    "    \n",
    "    epochs = 10000\n",
    "    \n",
    "    for i in range(epochs):\n",
    "        \n",
    "        grad = gradient(X, Y, weights)\n",
    "        \n",
    "        loss_epoch.append(loss_func(X, weights, Y))\n",
    "        \n",
    "        weights = weights + lr_rate * grad\n",
    "        \n",
    "    return weights, loss_epoch"
   ]
  },
  {
   "cell_type": "code",
   "execution_count": 38,
   "id": "847dde0f",
   "metadata": {},
   "outputs": [
    {
     "name": "stdout",
     "output_type": "stream",
     "text": [
      "45.62365531921387\n"
     ]
    }
   ],
   "source": [
    "import time\n",
    "start = time.time()\n",
    "weights, loss_epoch = gradient_descent(train_X, train_Y)\n",
    "print(time.time() - start)"
   ]
  },
  {
   "cell_type": "code",
   "execution_count": 39,
   "id": "0d54db1d",
   "metadata": {},
   "outputs": [
    {
     "data": {
      "text/plain": [
       "[<matplotlib.lines.Line2D at 0x20a7352f850>]"
      ]
     },
     "execution_count": 39,
     "metadata": {},
     "output_type": "execute_result"
    },
    {
     "data": {
      "image/png": "[encoded data removed]",
      "text/plain": [
       "<Figure size 640x480 with 1 Axes>"
      ]
     },
     "metadata": {},
     "output_type": "display_data"
    }
   ],
   "source": [
    "plt.plot(loss_epoch)"
   ]
  },
  {
   "cell_type": "code",
   "execution_count": 40,
   "id": "a2d9f818",
   "metadata": {},
   "outputs": [],
   "source": [
    "def predict(X,weights):\n",
    "    pred= hypothesis(X,weights)\n",
    "    \n",
    "    if pred> 0.5:\n",
    "        return 1\n",
    "    else:\n",
    "        return 0"
   ]
  },
  {
   "cell_type": "code",
   "execution_count": 43,
   "id": "fa6ccb3f",
   "metadata": {},
   "outputs": [],
   "source": [
    "test_Y = test_Y.values"
   ]
  },
  {
   "cell_type": "code",
   "execution_count": 44,
   "id": "e7dc5aef",
   "metadata": {},
   "outputs": [
    {
     "name": "stdout",
     "output_type": "stream",
     "text": [
      "0 0\n"
     ]
    }
   ],
   "source": [
    "print(predict(test_X[0],weights),test_Y[0])"
   ]
  },
  {
   "cell_type": "code",
   "execution_count": 45,
   "id": "65dbc330",
   "metadata": {},
   "outputs": [
    {
     "data": {
      "text/plain": [
       "array([0, 1, 0, ..., 0, 1, 0], dtype=int64)"
      ]
     },
     "execution_count": 45,
     "metadata": {},
     "output_type": "execute_result"
    }
   ],
   "source": [
    "test_Y"
   ]
  },
  {
   "cell_type": "code",
   "execution_count": 46,
   "id": "c5779c1e",
   "metadata": {},
   "outputs": [
    {
     "name": "stdout",
     "output_type": "stream",
     "text": [
      "0.6195\n"
     ]
    }
   ],
   "source": [
    "corr =0\n",
    "\n",
    "for i in range(test_X.shape[0]):\n",
    "    pred=predict(test_X[i],weights)\n",
    "    if pred == test_Y[i]:\n",
    "        corr+=1\n",
    "print(corr/test_X.shape[0])"
   ]
  },
  {
   "cell_type": "code",
   "execution_count": null,
   "id": "46756147",
   "metadata": {},
   "outputs": [],
   "source": []
  },
  {
   "cell_type": "code",
   "execution_count": null,
   "id": "32996d85",
   "metadata": {},
   "outputs": [],
   "source": []
  },
  {
   "cell_type": "code",
   "execution_count": null,
   "id": "11e4c7d4",
   "metadata": {},
   "outputs": [],
   "source": []
  }
 ],
 "metadata": {
  "kernelspec": {
   "display_name": "Python 3 (ipykernel)",
   "language": "python",
   "name": "python3"
  },
  "language_info": {
   "codemirror_mode": {
    "name": "ipython",
    "version": 3
   },
   "file_extension": ".py",
   "mimetype": "text/x-python",
   "name": "python",
   "nbconvert_exporter": "python",
   "pygments_lexer": "ipython3",
   "version": "3.11.5"
  }
 },
 "nbformat": 4,
 "nbformat_minor": 5
}
